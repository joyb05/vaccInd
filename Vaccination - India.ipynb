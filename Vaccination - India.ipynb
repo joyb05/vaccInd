{
 "cells": [
  {
   "cell_type": "code",
   "execution_count": 2,
   "metadata": {},
   "outputs": [],
   "source": [
    "import numpy as np \n",
    "import pandas as pd \n",
    "import seaborn as sns\n",
    "df=pd.read_csv('d:/COVID-19 India Statewise Vaccine Data.csv')"
   ]
  },
  {
   "cell_type": "code",
   "execution_count": 3,
   "metadata": {},
   "outputs": [],
   "source": [
    "df[\"Populations\"]=[380581,49576777,1383727,31205576,104099452,1055450,25545198,586956,16787941,1458545,60439692,25351462,6864602,12258433,32988134,61095297,33406061,274289,64473,72626809,112374333,2855794,2966889,1097206,1978502,41974218,1247953,27743338,68548437,610577,72147030,35004000,3673917,199812341,10086292,91276115,np.nan]\n",
    "df[\"Percentage Vaccinated\"]=(df[\"Dose 2\"]*100)/df[\"Populations\"]"
   ]
  },
  {
   "cell_type": "code",
   "execution_count": 6,
   "metadata": {},
   "outputs": [
    {
     "data": {
      "text/html": [
       "<style  type=\"text/css\" >\n",
       "#T_de6d47a3_c807_11eb_8593_5076af46c8dbrow0_col0,#T_de6d47a3_c807_11eb_8593_5076af46c8dbrow0_col1,#T_de6d47a3_c807_11eb_8593_5076af46c8dbrow0_col2,#T_de6d47a3_c807_11eb_8593_5076af46c8dbrow0_col3,#T_de6d47a3_c807_11eb_8593_5076af46c8dbrow0_col4,#T_de6d47a3_c807_11eb_8593_5076af46c8dbrow0_col5,#T_de6d47a3_c807_11eb_8593_5076af46c8dbrow1_col0,#T_de6d47a3_c807_11eb_8593_5076af46c8dbrow1_col1,#T_de6d47a3_c807_11eb_8593_5076af46c8dbrow1_col2,#T_de6d47a3_c807_11eb_8593_5076af46c8dbrow1_col3,#T_de6d47a3_c807_11eb_8593_5076af46c8dbrow1_col4,#T_de6d47a3_c807_11eb_8593_5076af46c8dbrow1_col5,#T_de6d47a3_c807_11eb_8593_5076af46c8dbrow2_col0,#T_de6d47a3_c807_11eb_8593_5076af46c8dbrow2_col1,#T_de6d47a3_c807_11eb_8593_5076af46c8dbrow2_col2,#T_de6d47a3_c807_11eb_8593_5076af46c8dbrow2_col3,#T_de6d47a3_c807_11eb_8593_5076af46c8dbrow2_col4,#T_de6d47a3_c807_11eb_8593_5076af46c8dbrow2_col5,#T_de6d47a3_c807_11eb_8593_5076af46c8dbrow3_col0,#T_de6d47a3_c807_11eb_8593_5076af46c8dbrow3_col1,#T_de6d47a3_c807_11eb_8593_5076af46c8dbrow3_col2,#T_de6d47a3_c807_11eb_8593_5076af46c8dbrow3_col3,#T_de6d47a3_c807_11eb_8593_5076af46c8dbrow3_col4,#T_de6d47a3_c807_11eb_8593_5076af46c8dbrow3_col5,#T_de6d47a3_c807_11eb_8593_5076af46c8dbrow4_col0,#T_de6d47a3_c807_11eb_8593_5076af46c8dbrow4_col1,#T_de6d47a3_c807_11eb_8593_5076af46c8dbrow4_col2,#T_de6d47a3_c807_11eb_8593_5076af46c8dbrow4_col3,#T_de6d47a3_c807_11eb_8593_5076af46c8dbrow4_col4,#T_de6d47a3_c807_11eb_8593_5076af46c8dbrow4_col5,#T_de6d47a3_c807_11eb_8593_5076af46c8dbrow5_col0,#T_de6d47a3_c807_11eb_8593_5076af46c8dbrow5_col1,#T_de6d47a3_c807_11eb_8593_5076af46c8dbrow5_col2,#T_de6d47a3_c807_11eb_8593_5076af46c8dbrow5_col3,#T_de6d47a3_c807_11eb_8593_5076af46c8dbrow5_col4,#T_de6d47a3_c807_11eb_8593_5076af46c8dbrow5_col5,#T_de6d47a3_c807_11eb_8593_5076af46c8dbrow6_col0,#T_de6d47a3_c807_11eb_8593_5076af46c8dbrow6_col1,#T_de6d47a3_c807_11eb_8593_5076af46c8dbrow6_col2,#T_de6d47a3_c807_11eb_8593_5076af46c8dbrow6_col3,#T_de6d47a3_c807_11eb_8593_5076af46c8dbrow6_col4,#T_de6d47a3_c807_11eb_8593_5076af46c8dbrow6_col5,#T_de6d47a3_c807_11eb_8593_5076af46c8dbrow7_col0,#T_de6d47a3_c807_11eb_8593_5076af46c8dbrow7_col1,#T_de6d47a3_c807_11eb_8593_5076af46c8dbrow7_col2,#T_de6d47a3_c807_11eb_8593_5076af46c8dbrow7_col3,#T_de6d47a3_c807_11eb_8593_5076af46c8dbrow7_col4,#T_de6d47a3_c807_11eb_8593_5076af46c8dbrow7_col5,#T_de6d47a3_c807_11eb_8593_5076af46c8dbrow8_col0,#T_de6d47a3_c807_11eb_8593_5076af46c8dbrow8_col1,#T_de6d47a3_c807_11eb_8593_5076af46c8dbrow8_col2,#T_de6d47a3_c807_11eb_8593_5076af46c8dbrow8_col3,#T_de6d47a3_c807_11eb_8593_5076af46c8dbrow8_col4,#T_de6d47a3_c807_11eb_8593_5076af46c8dbrow8_col5,#T_de6d47a3_c807_11eb_8593_5076af46c8dbrow9_col0,#T_de6d47a3_c807_11eb_8593_5076af46c8dbrow9_col1,#T_de6d47a3_c807_11eb_8593_5076af46c8dbrow9_col2,#T_de6d47a3_c807_11eb_8593_5076af46c8dbrow9_col3,#T_de6d47a3_c807_11eb_8593_5076af46c8dbrow9_col4,#T_de6d47a3_c807_11eb_8593_5076af46c8dbrow9_col5,#T_de6d47a3_c807_11eb_8593_5076af46c8dbrow10_col0,#T_de6d47a3_c807_11eb_8593_5076af46c8dbrow10_col1,#T_de6d47a3_c807_11eb_8593_5076af46c8dbrow10_col2,#T_de6d47a3_c807_11eb_8593_5076af46c8dbrow10_col3,#T_de6d47a3_c807_11eb_8593_5076af46c8dbrow10_col4,#T_de6d47a3_c807_11eb_8593_5076af46c8dbrow10_col5{\n",
       "            background-color:  black;\n",
       "            color:  green;\n",
       "        }</style><table id=\"T_de6d47a3_c807_11eb_8593_5076af46c8db\" ><thead>    <tr>        <th class=\"blank level0\" ></th>        <th class=\"col_heading level0 col0\" >State/UTs</th>        <th class=\"col_heading level0 col1\" >Dose 1</th>        <th class=\"col_heading level0 col2\" >Dose 2</th>        <th class=\"col_heading level0 col3\" >Total Vaccination Doses</th>        <th class=\"col_heading level0 col4\" >Populations</th>        <th class=\"col_heading level0 col5\" >Percentage Vaccinated</th>    </tr></thead><tbody>\n",
       "                <tr>\n",
       "                        <th id=\"T_de6d47a3_c807_11eb_8593_5076af46c8dblevel0_row0\" class=\"row_heading level0 row0\" >0</th>\n",
       "                        <td id=\"T_de6d47a3_c807_11eb_8593_5076af46c8dbrow0_col0\" class=\"data row0 col0\" >Andaman and Nicobar</td>\n",
       "                        <td id=\"T_de6d47a3_c807_11eb_8593_5076af46c8dbrow0_col1\" class=\"data row0 col1\" >109815</td>\n",
       "                        <td id=\"T_de6d47a3_c807_11eb_8593_5076af46c8dbrow0_col2\" class=\"data row0 col2\" >15186</td>\n",
       "                        <td id=\"T_de6d47a3_c807_11eb_8593_5076af46c8dbrow0_col3\" class=\"data row0 col3\" >125001</td>\n",
       "                        <td id=\"T_de6d47a3_c807_11eb_8593_5076af46c8dbrow0_col4\" class=\"data row0 col4\" >380581.000000</td>\n",
       "                        <td id=\"T_de6d47a3_c807_11eb_8593_5076af46c8dbrow0_col5\" class=\"data row0 col5\" >3.990215</td>\n",
       "            </tr>\n",
       "            <tr>\n",
       "                        <th id=\"T_de6d47a3_c807_11eb_8593_5076af46c8dblevel0_row1\" class=\"row_heading level0 row1\" >1</th>\n",
       "                        <td id=\"T_de6d47a3_c807_11eb_8593_5076af46c8dbrow1_col0\" class=\"data row1 col0\" >Andhra Pradesh</td>\n",
       "                        <td id=\"T_de6d47a3_c807_11eb_8593_5076af46c8dbrow1_col1\" class=\"data row1 col1\" >7543454</td>\n",
       "                        <td id=\"T_de6d47a3_c807_11eb_8593_5076af46c8dbrow1_col2\" class=\"data row1 col2\" >2529929</td>\n",
       "                        <td id=\"T_de6d47a3_c807_11eb_8593_5076af46c8dbrow1_col3\" class=\"data row1 col3\" >10073383</td>\n",
       "                        <td id=\"T_de6d47a3_c807_11eb_8593_5076af46c8dbrow1_col4\" class=\"data row1 col4\" >49576777.000000</td>\n",
       "                        <td id=\"T_de6d47a3_c807_11eb_8593_5076af46c8dbrow1_col5\" class=\"data row1 col5\" >5.103053</td>\n",
       "            </tr>\n",
       "            <tr>\n",
       "                        <th id=\"T_de6d47a3_c807_11eb_8593_5076af46c8dblevel0_row2\" class=\"row_heading level0 row2\" >2</th>\n",
       "                        <td id=\"T_de6d47a3_c807_11eb_8593_5076af46c8dbrow2_col0\" class=\"data row2 col0\" >Arunachal Pradesh</td>\n",
       "                        <td id=\"T_de6d47a3_c807_11eb_8593_5076af46c8dbrow2_col1\" class=\"data row2 col1\" >258147</td>\n",
       "                        <td id=\"T_de6d47a3_c807_11eb_8593_5076af46c8dbrow2_col2\" class=\"data row2 col2\" >78397</td>\n",
       "                        <td id=\"T_de6d47a3_c807_11eb_8593_5076af46c8dbrow2_col3\" class=\"data row2 col3\" >336544</td>\n",
       "                        <td id=\"T_de6d47a3_c807_11eb_8593_5076af46c8dbrow2_col4\" class=\"data row2 col4\" >1383727.000000</td>\n",
       "                        <td id=\"T_de6d47a3_c807_11eb_8593_5076af46c8dbrow2_col5\" class=\"data row2 col5\" >5.665641</td>\n",
       "            </tr>\n",
       "            <tr>\n",
       "                        <th id=\"T_de6d47a3_c807_11eb_8593_5076af46c8dblevel0_row3\" class=\"row_heading level0 row3\" >3</th>\n",
       "                        <td id=\"T_de6d47a3_c807_11eb_8593_5076af46c8dbrow3_col0\" class=\"data row3 col0\" >Assam</td>\n",
       "                        <td id=\"T_de6d47a3_c807_11eb_8593_5076af46c8dbrow3_col1\" class=\"data row3 col1\" >3336812</td>\n",
       "                        <td id=\"T_de6d47a3_c807_11eb_8593_5076af46c8dbrow3_col2\" class=\"data row3 col2\" >837436</td>\n",
       "                        <td id=\"T_de6d47a3_c807_11eb_8593_5076af46c8dbrow3_col3\" class=\"data row3 col3\" >4174248</td>\n",
       "                        <td id=\"T_de6d47a3_c807_11eb_8593_5076af46c8dbrow3_col4\" class=\"data row3 col4\" >31205576.000000</td>\n",
       "                        <td id=\"T_de6d47a3_c807_11eb_8593_5076af46c8dbrow3_col5\" class=\"data row3 col5\" >2.683610</td>\n",
       "            </tr>\n",
       "            <tr>\n",
       "                        <th id=\"T_de6d47a3_c807_11eb_8593_5076af46c8dblevel0_row4\" class=\"row_heading level0 row4\" >4</th>\n",
       "                        <td id=\"T_de6d47a3_c807_11eb_8593_5076af46c8dbrow4_col0\" class=\"data row4 col0\" >Bihar</td>\n",
       "                        <td id=\"T_de6d47a3_c807_11eb_8593_5076af46c8dbrow4_col1\" class=\"data row4 col1\" >8560053</td>\n",
       "                        <td id=\"T_de6d47a3_c807_11eb_8593_5076af46c8dbrow4_col2\" class=\"data row4 col2\" >1803082</td>\n",
       "                        <td id=\"T_de6d47a3_c807_11eb_8593_5076af46c8dbrow4_col3\" class=\"data row4 col3\" >10363135</td>\n",
       "                        <td id=\"T_de6d47a3_c807_11eb_8593_5076af46c8dbrow4_col4\" class=\"data row4 col4\" >104099452.000000</td>\n",
       "                        <td id=\"T_de6d47a3_c807_11eb_8593_5076af46c8dbrow4_col5\" class=\"data row4 col5\" >1.732076</td>\n",
       "            </tr>\n",
       "            <tr>\n",
       "                        <th id=\"T_de6d47a3_c807_11eb_8593_5076af46c8dblevel0_row5\" class=\"row_heading level0 row5\" >5</th>\n",
       "                        <td id=\"T_de6d47a3_c807_11eb_8593_5076af46c8dbrow5_col0\" class=\"data row5 col0\" >Chandigarh</td>\n",
       "                        <td id=\"T_de6d47a3_c807_11eb_8593_5076af46c8dbrow5_col1\" class=\"data row5 col1\" >280190</td>\n",
       "                        <td id=\"T_de6d47a3_c807_11eb_8593_5076af46c8dbrow5_col2\" class=\"data row5 col2\" >74933</td>\n",
       "                        <td id=\"T_de6d47a3_c807_11eb_8593_5076af46c8dbrow5_col3\" class=\"data row5 col3\" >355123</td>\n",
       "                        <td id=\"T_de6d47a3_c807_11eb_8593_5076af46c8dbrow5_col4\" class=\"data row5 col4\" >1055450.000000</td>\n",
       "                        <td id=\"T_de6d47a3_c807_11eb_8593_5076af46c8dbrow5_col5\" class=\"data row5 col5\" >7.099626</td>\n",
       "            </tr>\n",
       "            <tr>\n",
       "                        <th id=\"T_de6d47a3_c807_11eb_8593_5076af46c8dblevel0_row6\" class=\"row_heading level0 row6\" >6</th>\n",
       "                        <td id=\"T_de6d47a3_c807_11eb_8593_5076af46c8dbrow6_col0\" class=\"data row6 col0\" >Chhattisgarh</td>\n",
       "                        <td id=\"T_de6d47a3_c807_11eb_8593_5076af46c8dbrow6_col1\" class=\"data row6 col1\" >5897444</td>\n",
       "                        <td id=\"T_de6d47a3_c807_11eb_8593_5076af46c8dbrow6_col2\" class=\"data row6 col2\" >1113067</td>\n",
       "                        <td id=\"T_de6d47a3_c807_11eb_8593_5076af46c8dbrow6_col3\" class=\"data row6 col3\" >7010511</td>\n",
       "                        <td id=\"T_de6d47a3_c807_11eb_8593_5076af46c8dbrow6_col4\" class=\"data row6 col4\" >25545198.000000</td>\n",
       "                        <td id=\"T_de6d47a3_c807_11eb_8593_5076af46c8dbrow6_col5\" class=\"data row6 col5\" >4.357246</td>\n",
       "            </tr>\n",
       "            <tr>\n",
       "                        <th id=\"T_de6d47a3_c807_11eb_8593_5076af46c8dblevel0_row7\" class=\"row_heading level0 row7\" >7</th>\n",
       "                        <td id=\"T_de6d47a3_c807_11eb_8593_5076af46c8dbrow7_col0\" class=\"data row7 col0\" >Dadra and Nagar Haveli and Daman and Diu</td>\n",
       "                        <td id=\"T_de6d47a3_c807_11eb_8593_5076af46c8dbrow7_col1\" class=\"data row7 col1\" >175957</td>\n",
       "                        <td id=\"T_de6d47a3_c807_11eb_8593_5076af46c8dbrow7_col2\" class=\"data row7 col2\" >25990</td>\n",
       "                        <td id=\"T_de6d47a3_c807_11eb_8593_5076af46c8dbrow7_col3\" class=\"data row7 col3\" >201947</td>\n",
       "                        <td id=\"T_de6d47a3_c807_11eb_8593_5076af46c8dbrow7_col4\" class=\"data row7 col4\" >586956.000000</td>\n",
       "                        <td id=\"T_de6d47a3_c807_11eb_8593_5076af46c8dbrow7_col5\" class=\"data row7 col5\" >4.427930</td>\n",
       "            </tr>\n",
       "            <tr>\n",
       "                        <th id=\"T_de6d47a3_c807_11eb_8593_5076af46c8dblevel0_row8\" class=\"row_heading level0 row8\" >8</th>\n",
       "                        <td id=\"T_de6d47a3_c807_11eb_8593_5076af46c8dbrow8_col0\" class=\"data row8 col0\" >Delhi</td>\n",
       "                        <td id=\"T_de6d47a3_c807_11eb_8593_5076af46c8dbrow8_col1\" class=\"data row8 col1\" >4219039</td>\n",
       "                        <td id=\"T_de6d47a3_c807_11eb_8593_5076af46c8dbrow8_col2\" class=\"data row8 col2\" >1241241</td>\n",
       "                        <td id=\"T_de6d47a3_c807_11eb_8593_5076af46c8dbrow8_col3\" class=\"data row8 col3\" >5460280</td>\n",
       "                        <td id=\"T_de6d47a3_c807_11eb_8593_5076af46c8dbrow8_col4\" class=\"data row8 col4\" >16787941.000000</td>\n",
       "                        <td id=\"T_de6d47a3_c807_11eb_8593_5076af46c8dbrow8_col5\" class=\"data row8 col5\" >7.393646</td>\n",
       "            </tr>\n",
       "            <tr>\n",
       "                        <th id=\"T_de6d47a3_c807_11eb_8593_5076af46c8dblevel0_row9\" class=\"row_heading level0 row9\" >9</th>\n",
       "                        <td id=\"T_de6d47a3_c807_11eb_8593_5076af46c8dbrow9_col0\" class=\"data row9 col0\" >Goa</td>\n",
       "                        <td id=\"T_de6d47a3_c807_11eb_8593_5076af46c8dbrow9_col1\" class=\"data row9 col1\" >438255</td>\n",
       "                        <td id=\"T_de6d47a3_c807_11eb_8593_5076af46c8dbrow9_col2\" class=\"data row9 col2\" >95218</td>\n",
       "                        <td id=\"T_de6d47a3_c807_11eb_8593_5076af46c8dbrow9_col3\" class=\"data row9 col3\" >533473</td>\n",
       "                        <td id=\"T_de6d47a3_c807_11eb_8593_5076af46c8dbrow9_col4\" class=\"data row9 col4\" >1458545.000000</td>\n",
       "                        <td id=\"T_de6d47a3_c807_11eb_8593_5076af46c8dbrow9_col5\" class=\"data row9 col5\" >6.528287</td>\n",
       "            </tr>\n",
       "            <tr>\n",
       "                        <th id=\"T_de6d47a3_c807_11eb_8593_5076af46c8dblevel0_row10\" class=\"row_heading level0 row10\" >10</th>\n",
       "                        <td id=\"T_de6d47a3_c807_11eb_8593_5076af46c8dbrow10_col0\" class=\"data row10 col0\" >Gujarat</td>\n",
       "                        <td id=\"T_de6d47a3_c807_11eb_8593_5076af46c8dbrow10_col1\" class=\"data row10 col1\" >13121339</td>\n",
       "                        <td id=\"T_de6d47a3_c807_11eb_8593_5076af46c8dbrow10_col2\" class=\"data row10 col2\" >4178187</td>\n",
       "                        <td id=\"T_de6d47a3_c807_11eb_8593_5076af46c8dbrow10_col3\" class=\"data row10 col3\" >17299526</td>\n",
       "                        <td id=\"T_de6d47a3_c807_11eb_8593_5076af46c8dbrow10_col4\" class=\"data row10 col4\" >60439692.000000</td>\n",
       "                        <td id=\"T_de6d47a3_c807_11eb_8593_5076af46c8dbrow10_col5\" class=\"data row10 col5\" >6.912985</td>\n",
       "            </tr>\n",
       "    </tbody></table>"
      ],
      "text/plain": [
       "<pandas.io.formats.style.Styler at 0x198f15edd00>"
      ]
     },
     "execution_count": 6,
     "metadata": {},
     "output_type": "execute_result"
    }
   ],
   "source": [
    "df.head(11).style.set_properties(**{'background-color':'black',\n",
    "                                     'color': 'green'})"
   ]
  },
  {
   "cell_type": "code",
   "execution_count": 7,
   "metadata": {},
   "outputs": [
    {
     "data": {
      "text/html": [
       "<div>\n",
       "<style scoped>\n",
       "    .dataframe tbody tr th:only-of-type {\n",
       "        vertical-align: middle;\n",
       "    }\n",
       "\n",
       "    .dataframe tbody tr th {\n",
       "        vertical-align: top;\n",
       "    }\n",
       "\n",
       "    .dataframe thead th {\n",
       "        text-align: right;\n",
       "    }\n",
       "</style>\n",
       "<table border=\"1\" class=\"dataframe\">\n",
       "  <thead>\n",
       "    <tr style=\"text-align: right;\">\n",
       "      <th></th>\n",
       "      <th>Dose 1</th>\n",
       "      <th>Dose 2</th>\n",
       "      <th>Total Vaccination Doses</th>\n",
       "      <th>Populations</th>\n",
       "      <th>Percentage Vaccinated</th>\n",
       "    </tr>\n",
       "  </thead>\n",
       "  <tbody>\n",
       "    <tr>\n",
       "      <th>count</th>\n",
       "      <td>3.700000e+01</td>\n",
       "      <td>3.700000e+01</td>\n",
       "      <td>3.700000e+01</td>\n",
       "      <td>3.600000e+01</td>\n",
       "      <td>36.000000</td>\n",
       "    </tr>\n",
       "    <tr>\n",
       "      <th>mean</th>\n",
       "      <td>4.686797e+06</td>\n",
       "      <td>1.219869e+06</td>\n",
       "      <td>5.906667e+06</td>\n",
       "      <td>3.363462e+07</td>\n",
       "      <td>5.130657</td>\n",
       "    </tr>\n",
       "    <tr>\n",
       "      <th>std</th>\n",
       "      <td>4.989585e+06</td>\n",
       "      <td>1.321953e+06</td>\n",
       "      <td>6.272013e+06</td>\n",
       "      <td>4.305181e+07</td>\n",
       "      <td>2.970499</td>\n",
       "    </tr>\n",
       "    <tr>\n",
       "      <th>min</th>\n",
       "      <td>2.765800e+04</td>\n",
       "      <td>6.947000e+03</td>\n",
       "      <td>3.460500e+04</td>\n",
       "      <td>6.447300e+04</td>\n",
       "      <td>1.732076</td>\n",
       "    </tr>\n",
       "    <tr>\n",
       "      <th>25%</th>\n",
       "      <td>2.801900e+05</td>\n",
       "      <td>7.437000e+04</td>\n",
       "      <td>3.551230e+05</td>\n",
       "      <td>1.439840e+06</td>\n",
       "      <td>2.829845</td>\n",
       "    </tr>\n",
       "    <tr>\n",
       "      <th>50%</th>\n",
       "      <td>3.336812e+06</td>\n",
       "      <td>7.758180e+05</td>\n",
       "      <td>4.174248e+06</td>\n",
       "      <td>2.106970e+07</td>\n",
       "      <td>4.392588</td>\n",
       "    </tr>\n",
       "    <tr>\n",
       "      <th>75%</th>\n",
       "      <td>7.482792e+06</td>\n",
       "      <td>1.803082e+06</td>\n",
       "      <td>9.571704e+06</td>\n",
       "      <td>5.229251e+07</td>\n",
       "      <td>6.371199</td>\n",
       "    </tr>\n",
       "    <tr>\n",
       "      <th>max</th>\n",
       "      <td>1.821650e+07</td>\n",
       "      <td>4.616240e+06</td>\n",
       "      <td>2.283274e+07</td>\n",
       "      <td>1.998123e+08</td>\n",
       "      <td>13.819474</td>\n",
       "    </tr>\n",
       "  </tbody>\n",
       "</table>\n",
       "</div>"
      ],
      "text/plain": [
       "             Dose 1        Dose 2  Total Vaccination Doses   Populations  \\\n",
       "count  3.700000e+01  3.700000e+01             3.700000e+01  3.600000e+01   \n",
       "mean   4.686797e+06  1.219869e+06             5.906667e+06  3.363462e+07   \n",
       "std    4.989585e+06  1.321953e+06             6.272013e+06  4.305181e+07   \n",
       "min    2.765800e+04  6.947000e+03             3.460500e+04  6.447300e+04   \n",
       "25%    2.801900e+05  7.437000e+04             3.551230e+05  1.439840e+06   \n",
       "50%    3.336812e+06  7.758180e+05             4.174248e+06  2.106970e+07   \n",
       "75%    7.482792e+06  1.803082e+06             9.571704e+06  5.229251e+07   \n",
       "max    1.821650e+07  4.616240e+06             2.283274e+07  1.998123e+08   \n",
       "\n",
       "       Percentage Vaccinated  \n",
       "count              36.000000  \n",
       "mean                5.130657  \n",
       "std                 2.970499  \n",
       "min                 1.732076  \n",
       "25%                 2.829845  \n",
       "50%                 4.392588  \n",
       "75%                 6.371199  \n",
       "max                13.819474  "
      ]
     },
     "execution_count": 7,
     "metadata": {},
     "output_type": "execute_result"
    }
   ],
   "source": [
    "df.describe()"
   ]
  },
  {
   "cell_type": "code",
   "execution_count": 8,
   "metadata": {},
   "outputs": [
    {
     "name": "stdout",
     "output_type": "stream",
     "text": [
      "<class 'pandas.core.frame.DataFrame'>\n",
      "RangeIndex: 37 entries, 0 to 36\n",
      "Data columns (total 6 columns):\n",
      " #   Column                   Non-Null Count  Dtype  \n",
      "---  ------                   --------------  -----  \n",
      " 0   State/UTs                37 non-null     object \n",
      " 1   Dose 1                   37 non-null     int64  \n",
      " 2   Dose 2                   37 non-null     int64  \n",
      " 3   Total Vaccination Doses  37 non-null     int64  \n",
      " 4   Populations              36 non-null     float64\n",
      " 5   Percentage Vaccinated    36 non-null     float64\n",
      "dtypes: float64(2), int64(3), object(1)\n",
      "memory usage: 1.9+ KB\n"
     ]
    }
   ],
   "source": [
    "df.info()"
   ]
  },
  {
   "cell_type": "code",
   "execution_count": 9,
   "metadata": {},
   "outputs": [],
   "source": [
    "df1=df.sort_values(by=\"Total Vaccination Doses\",ascending=False)\n",
    "df2=df.sort_values(by=\"Dose 2\",ascending=False)\n",
    "df3=df.sort_values(by=\"Total Vaccination Doses\")\n",
    "df4=df.sort_values(by=\"Dose 2\")\n",
    "df5=df.sort_values(by=\"Percentage Vaccinated\",ascending=False)\n",
    "df6=df.sort_values(by=\"Percentage Vaccinated\")"
   ]
  },
  {
   "cell_type": "code",
   "execution_count": 16,
   "metadata": {},
   "outputs": [
    {
     "data": {
      "text/html": [
       "<div>\n",
       "<style scoped>\n",
       "    .dataframe tbody tr th:only-of-type {\n",
       "        vertical-align: middle;\n",
       "    }\n",
       "\n",
       "    .dataframe tbody tr th {\n",
       "        vertical-align: top;\n",
       "    }\n",
       "\n",
       "    .dataframe thead th {\n",
       "        text-align: right;\n",
       "    }\n",
       "</style>\n",
       "<table border=\"1\" class=\"dataframe\">\n",
       "  <thead>\n",
       "    <tr style=\"text-align: right;\">\n",
       "      <th></th>\n",
       "      <th>State/UTs</th>\n",
       "      <th>Dose 1</th>\n",
       "      <th>Dose 2</th>\n",
       "      <th>Total Vaccination Doses</th>\n",
       "      <th>Populations</th>\n",
       "      <th>Percentage Vaccinated</th>\n",
       "    </tr>\n",
       "  </thead>\n",
       "  <tbody>\n",
       "    <tr>\n",
       "      <th>20</th>\n",
       "      <td>Maharashtra</td>\n",
       "      <td>18216503</td>\n",
       "      <td>4616240</td>\n",
       "      <td>22832743</td>\n",
       "      <td>112374333.0</td>\n",
       "      <td>4.107913</td>\n",
       "    </tr>\n",
       "    <tr>\n",
       "      <th>33</th>\n",
       "      <td>Uttar Pradesh</td>\n",
       "      <td>15173873</td>\n",
       "      <td>3505447</td>\n",
       "      <td>18679320</td>\n",
       "      <td>199812341.0</td>\n",
       "      <td>1.754370</td>\n",
       "    </tr>\n",
       "    <tr>\n",
       "      <th>10</th>\n",
       "      <td>Gujarat</td>\n",
       "      <td>13121339</td>\n",
       "      <td>4178187</td>\n",
       "      <td>17299526</td>\n",
       "      <td>60439692.0</td>\n",
       "      <td>6.912985</td>\n",
       "    </tr>\n",
       "    <tr>\n",
       "      <th>28</th>\n",
       "      <td>Rajasthan</td>\n",
       "      <td>13985177</td>\n",
       "      <td>3133405</td>\n",
       "      <td>17118582</td>\n",
       "      <td>68548437.0</td>\n",
       "      <td>4.571082</td>\n",
       "    </tr>\n",
       "    <tr>\n",
       "      <th>35</th>\n",
       "      <td>West Bengal</td>\n",
       "      <td>11071085</td>\n",
       "      <td>3893629</td>\n",
       "      <td>14964714</td>\n",
       "      <td>91276115.0</td>\n",
       "      <td>4.265770</td>\n",
       "    </tr>\n",
       "    <tr>\n",
       "      <th>15</th>\n",
       "      <td>Karnataka</td>\n",
       "      <td>11125563</td>\n",
       "      <td>2772995</td>\n",
       "      <td>13898558</td>\n",
       "      <td>61095297.0</td>\n",
       "      <td>4.538803</td>\n",
       "    </tr>\n",
       "    <tr>\n",
       "      <th>19</th>\n",
       "      <td>Madhya Pradesh</td>\n",
       "      <td>9391831</td>\n",
       "      <td>1793545</td>\n",
       "      <td>11185376</td>\n",
       "      <td>72626809.0</td>\n",
       "      <td>2.469536</td>\n",
       "    </tr>\n",
       "  </tbody>\n",
       "</table>\n",
       "</div>"
      ],
      "text/plain": [
       "         State/UTs    Dose 1   Dose 2  Total Vaccination Doses  Populations  \\\n",
       "20     Maharashtra  18216503  4616240                 22832743  112374333.0   \n",
       "33   Uttar Pradesh  15173873  3505447                 18679320  199812341.0   \n",
       "10         Gujarat  13121339  4178187                 17299526   60439692.0   \n",
       "28       Rajasthan  13985177  3133405                 17118582   68548437.0   \n",
       "35     West Bengal  11071085  3893629                 14964714   91276115.0   \n",
       "15       Karnataka  11125563  2772995                 13898558   61095297.0   \n",
       "19  Madhya Pradesh   9391831  1793545                 11185376   72626809.0   \n",
       "\n",
       "    Percentage Vaccinated  \n",
       "20               4.107913  \n",
       "33               1.754370  \n",
       "10               6.912985  \n",
       "28               4.571082  \n",
       "35               4.265770  \n",
       "15               4.538803  \n",
       "19               2.469536  "
      ]
     },
     "execution_count": 16,
     "metadata": {},
     "output_type": "execute_result"
    }
   ],
   "source": [
    "dfsort1 = df1.iloc[0:8]\n",
    "df1.head(7)"
   ]
  },
  {
   "cell_type": "code",
   "execution_count": 21,
   "metadata": {},
   "outputs": [
    {
     "data": {
      "text/plain": [
       "<seaborn.axisgrid.FacetGrid at 0x198f15b6cd0>"
      ]
     },
     "execution_count": 21,
     "metadata": {},
     "output_type": "execute_result"
    },
    {
     "data": {
      "image/png": "[encoded data removed]",
      "text/plain": [
       "<Figure size 720x360 with 1 Axes>"
      ]
     },
     "metadata": {
      "needs_background": "light"
     },
     "output_type": "display_data"
    }
   ],
   "source": [
    "sns.catplot(x=\"State/UTs\", y=\"Total Vaccination Doses\", kind=\"point\",\n",
    "            data=dfsort1,aspect=2,color=\"gold\")"
   ]
  },
  {
   "cell_type": "code",
   "execution_count": 26,
   "metadata": {},
   "outputs": [],
   "source": [
    "dfsort2=df2.iloc[0:8]"
   ]
  },
  {
   "cell_type": "code",
   "execution_count": 27,
   "metadata": {},
   "outputs": [
    {
     "data": {
      "text/plain": [
       "<seaborn.axisgrid.FacetGrid at 0x198f1b58580>"
      ]
     },
     "execution_count": 27,
     "metadata": {},
     "output_type": "execute_result"
    },
    {
     "data": {
      "image/png": "[encoded data removed]",
      "text/plain": [
       "<Figure size 720x360 with 1 Axes>"
      ]
     },
     "metadata": {
      "needs_background": "light"
     },
     "output_type": "display_data"
    }
   ],
   "source": [
    "sns.catplot(x=\"State/UTs\", y=\"Dose 2\", kind=\"point\",\n",
    "            data=dfsort2,aspect=2,color=\"red\")"
   ]
  },
  {
   "cell_type": "code",
   "execution_count": 29,
   "metadata": {},
   "outputs": [
    {
     "data": {
      "text/html": [
       "<div>\n",
       "<style scoped>\n",
       "    .dataframe tbody tr th:only-of-type {\n",
       "        vertical-align: middle;\n",
       "    }\n",
       "\n",
       "    .dataframe tbody tr th {\n",
       "        vertical-align: top;\n",
       "    }\n",
       "\n",
       "    .dataframe thead th {\n",
       "        text-align: right;\n",
       "    }\n",
       "</style>\n",
       "<table border=\"1\" class=\"dataframe\">\n",
       "  <thead>\n",
       "    <tr style=\"text-align: right;\">\n",
       "      <th></th>\n",
       "      <th>State/UTs</th>\n",
       "      <th>Dose 1</th>\n",
       "      <th>Dose 2</th>\n",
       "      <th>Total Vaccination Doses</th>\n",
       "      <th>Populations</th>\n",
       "      <th>Percentage Vaccinated</th>\n",
       "    </tr>\n",
       "  </thead>\n",
       "  <tbody>\n",
       "    <tr>\n",
       "      <th>32</th>\n",
       "      <td>Tripura</td>\n",
       "      <td>1107254</td>\n",
       "      <td>507716</td>\n",
       "      <td>1614970</td>\n",
       "      <td>3673917.0</td>\n",
       "      <td>13.819474</td>\n",
       "    </tr>\n",
       "    <tr>\n",
       "      <th>17</th>\n",
       "      <td>Ladakh</td>\n",
       "      <td>126904</td>\n",
       "      <td>37291</td>\n",
       "      <td>164195</td>\n",
       "      <td>274289.0</td>\n",
       "      <td>13.595514</td>\n",
       "    </tr>\n",
       "    <tr>\n",
       "      <th>18</th>\n",
       "      <td>Lakshadweep</td>\n",
       "      <td>27658</td>\n",
       "      <td>6947</td>\n",
       "      <td>34605</td>\n",
       "      <td>64473.0</td>\n",
       "      <td>10.775053</td>\n",
       "    </tr>\n",
       "    <tr>\n",
       "      <th>29</th>\n",
       "      <td>Sikkim</td>\n",
       "      <td>179311</td>\n",
       "      <td>59673</td>\n",
       "      <td>238984</td>\n",
       "      <td>610577.0</td>\n",
       "      <td>9.773215</td>\n",
       "    </tr>\n",
       "    <tr>\n",
       "      <th>8</th>\n",
       "      <td>Delhi</td>\n",
       "      <td>4219039</td>\n",
       "      <td>1241241</td>\n",
       "      <td>5460280</td>\n",
       "      <td>16787941.0</td>\n",
       "      <td>7.393646</td>\n",
       "    </tr>\n",
       "  </tbody>\n",
       "</table>\n",
       "</div>"
      ],
      "text/plain": [
       "      State/UTs   Dose 1   Dose 2  Total Vaccination Doses  Populations  \\\n",
       "32      Tripura  1107254   507716                  1614970    3673917.0   \n",
       "17       Ladakh   126904    37291                   164195     274289.0   \n",
       "18  Lakshadweep    27658     6947                    34605      64473.0   \n",
       "29       Sikkim   179311    59673                   238984     610577.0   \n",
       "8         Delhi  4219039  1241241                  5460280   16787941.0   \n",
       "\n",
       "    Percentage Vaccinated  \n",
       "32              13.819474  \n",
       "17              13.595514  \n",
       "18              10.775053  \n",
       "29               9.773215  \n",
       "8                7.393646  "
      ]
     },
     "execution_count": 29,
     "metadata": {},
     "output_type": "execute_result"
    }
   ],
   "source": [
    "dfsort5=df5.iloc[0:8]\n",
    "df5.head()"
   ]
  },
  {
   "cell_type": "code",
   "execution_count": 32,
   "metadata": {},
   "outputs": [
    {
     "data": {
      "text/plain": [
       "<seaborn.axisgrid.FacetGrid at 0x198f24641f0>"
      ]
     },
     "execution_count": 32,
     "metadata": {},
     "output_type": "execute_result"
    },
    {
     "data": {
      "image/png": "[encoded data removed]",
      "text/plain": [
       "<Figure size 720x360 with 1 Axes>"
      ]
     },
     "metadata": {
      "needs_background": "light"
     },
     "output_type": "display_data"
    }
   ],
   "source": [
    "sns.catplot(x=\"State/UTs\", y=\"Percentage Vaccinated\", kind=\"point\",\n",
    "            data=dfsort5,aspect=2,color=\"blue\")"
   ]
  },
  {
   "cell_type": "code",
   "execution_count": null,
   "metadata": {},
   "outputs": [],
   "source": []
  }
 ],
 "metadata": {
  "kernelspec": {
   "display_name": "Python 3",
   "language": "python",
   "name": "python3"
  },
  "language_info": {
   "codemirror_mode": {
    "name": "ipython",
    "version": 3
   },
   "file_extension": ".py",
   "mimetype": "text/x-python",
   "name": "python",
   "nbconvert_exporter": "python",
   "pygments_lexer": "ipython3",
   "version": "3.8.5"
  }
 },
 "nbformat": 4,
 "nbformat_minor": 4
}
